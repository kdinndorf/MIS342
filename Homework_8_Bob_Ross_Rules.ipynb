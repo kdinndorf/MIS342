{
  "nbformat": 4,
  "nbformat_minor": 0,
  "metadata": {
    "kernelspec": {
      "display_name": "R",
      "language": "R",
      "name": "ir"
    },
    "language_info": {
      "codemirror_mode": "r",
      "file_extension": ".r",
      "mimetype": "text/x-r-source",
      "name": "R",
      "pygments_lexer": "r",
      "version": "3.5.1"
    },
    "colab": {
      "name": "activity_8_4_Bob_Ross_Rules.ipynb",
      "provenance": [],
      "include_colab_link": true
    }
  },
  "cells": [
    {
      "cell_type": "markdown",
      "metadata": {
        "id": "view-in-github",
        "colab_type": "text"
      },
      "source": [
        "<a href=\"https://colab.research.google.com/github/kdinndorf/MIS342/blob/master/Homework_8_Bob_Ross_Rules.ipynb\" target=\"_parent\"><img src=\"https://colab.research.google.com/assets/colab-badge.svg\" alt=\"Open In Colab\"/></a>"
      ]
    },
    {
      "cell_type": "markdown",
      "metadata": {
        "id": "RCDLPP-JNZ5C"
      },
      "source": [
        "For this assignment, we will consider the BobRoss dataset. Bob Ross was a painter that was often on public television. The purpose of this analysis is to determine which features were commonly used in conjunction with each other in his paintings.\n",
        "\n",
        "\n",
        "![](https://github.com/WSU-DataScience/DSCI_210_R_notebooks/raw/main/img/Bob.png)\n"
      ]
    },
    {
      "cell_type": "code",
      "metadata": {
        "id": "ebj-7TPBNZ5F",
        "outputId": "05a956a7-700b-428a-bc43-8bb49ecd7706",
        "colab": {
          "base_uri": "https://localhost:8080/"
        }
      },
      "source": [
        "install.packages(\"arules\") # Must run everytime in Colab"
      ],
      "execution_count": 1,
      "outputs": [
        {
          "output_type": "stream",
          "name": "stderr",
          "text": [
            "Installing package into ‘/usr/local/lib/R/site-library’\n",
            "(as ‘lib’ is unspecified)\n",
            "\n"
          ]
        }
      ]
    },
    {
      "cell_type": "code",
      "metadata": {
        "id": "ruNswXmENZ5G",
        "outputId": "01cfcddf-8571-447a-fad5-965c2350d14a",
        "colab": {
          "base_uri": "https://localhost:8080/"
        }
      },
      "source": [
        "library(arules)"
      ],
      "execution_count": 2,
      "outputs": [
        {
          "output_type": "stream",
          "name": "stderr",
          "text": [
            "Loading required package: Matrix\n",
            "\n",
            "\n",
            "Attaching package: ‘arules’\n",
            "\n",
            "\n",
            "The following objects are masked from ‘package:base’:\n",
            "\n",
            "    abbreviate, write\n",
            "\n",
            "\n"
          ]
        }
      ]
    },
    {
      "cell_type": "code",
      "metadata": {
        "id": "jAo3WU9sNZ5H",
        "outputId": "66eda861-f96d-4f6c-f4f6-6ec94c61eabf",
        "colab": {
          "base_uri": "https://localhost:8080/"
        }
      },
      "source": [
        "library(tidyr)\n",
        "library(dplyr)"
      ],
      "execution_count": 3,
      "outputs": [
        {
          "output_type": "stream",
          "name": "stderr",
          "text": [
            "\n",
            "Attaching package: ‘tidyr’\n",
            "\n",
            "\n",
            "The following objects are masked from ‘package:Matrix’:\n",
            "\n",
            "    expand, pack, unpack\n",
            "\n",
            "\n",
            "\n",
            "Attaching package: ‘dplyr’\n",
            "\n",
            "\n",
            "The following objects are masked from ‘package:arules’:\n",
            "\n",
            "    intersect, recode, setdiff, setequal, union\n",
            "\n",
            "\n",
            "The following objects are masked from ‘package:stats’:\n",
            "\n",
            "    filter, lag\n",
            "\n",
            "\n",
            "The following objects are masked from ‘package:base’:\n",
            "\n",
            "    intersect, setdiff, setequal, union\n",
            "\n",
            "\n"
          ]
        }
      ]
    },
    {
      "cell_type": "code",
      "metadata": {
        "id": "nW7YPqqsNZ5H",
        "outputId": "37e5fb09-1b17-46ab-d4cd-65e27207d4c0",
        "colab": {
          "base_uri": "https://localhost:8080/",
          "height": 1000
        }
      },
      "source": [
        "bobross <- read.csv(\"https://github.com/WSU-DataScience/DSCI_210_R_notebooks/raw/main/data/BobRossPaintings.csv\")\n",
        "head(bobross, 40)"
      ],
      "execution_count": 10,
      "outputs": [
        {
          "output_type": "display_data",
          "data": {
            "text/html": [
              "<table class=\"dataframe\">\n",
              "<caption>A data.frame: 40 × 40</caption>\n",
              "<thead>\n",
              "\t<tr><th></th><th scope=col>TID</th><th scope=col>EPISODE</th><th scope=col>TITLE</th><th scope=col>BARN</th><th scope=col>BEACH</th><th scope=col>BOAT</th><th scope=col>BRIDGE</th><th scope=col>BUILDING</th><th scope=col>BUSHES</th><th scope=col>CABIN</th><th scope=col>⋯</th><th scope=col>RIVER</th><th scope=col>ROCKS</th><th scope=col>SNOW</th><th scope=col>SNOWY_MOUNTAIN</th><th scope=col>SUN</th><th scope=col>TREES</th><th scope=col>WATERFALL</th><th scope=col>WAVES</th><th scope=col>WINDMILL</th><th scope=col>WINTER</th></tr>\n",
              "\t<tr><th></th><th scope=col>&lt;int&gt;</th><th scope=col>&lt;chr&gt;</th><th scope=col>&lt;chr&gt;</th><th scope=col>&lt;int&gt;</th><th scope=col>&lt;int&gt;</th><th scope=col>&lt;int&gt;</th><th scope=col>&lt;int&gt;</th><th scope=col>&lt;int&gt;</th><th scope=col>&lt;int&gt;</th><th scope=col>&lt;int&gt;</th><th scope=col>⋯</th><th scope=col>&lt;int&gt;</th><th scope=col>&lt;int&gt;</th><th scope=col>&lt;int&gt;</th><th scope=col>&lt;int&gt;</th><th scope=col>&lt;int&gt;</th><th scope=col>&lt;int&gt;</th><th scope=col>&lt;int&gt;</th><th scope=col>&lt;int&gt;</th><th scope=col>&lt;int&gt;</th><th scope=col>&lt;int&gt;</th></tr>\n",
              "</thead>\n",
              "<tbody>\n",
              "\t<tr><th scope=row>1</th><td> 1</td><td>S01E01</td><td>A WALK IN THE WOODS   </td><td>0</td><td>0</td><td>0</td><td>0</td><td>0</td><td>1</td><td>0</td><td>⋯</td><td>1</td><td>0</td><td>0</td><td>0</td><td>0</td><td>1</td><td>0</td><td>0</td><td>0</td><td>0</td></tr>\n",
              "\t<tr><th scope=row>2</th><td> 2</td><td>S01E02</td><td>MT. MCKINLEY          </td><td>0</td><td>0</td><td>0</td><td>0</td><td>0</td><td>0</td><td>1</td><td>⋯</td><td>0</td><td>0</td><td>1</td><td>1</td><td>0</td><td>1</td><td>0</td><td>0</td><td>0</td><td>1</td></tr>\n",
              "\t<tr><th scope=row>3</th><td> 3</td><td>S01E03</td><td>EBONY SUNSET          </td><td>0</td><td>0</td><td>0</td><td>0</td><td>0</td><td>0</td><td>1</td><td>⋯</td><td>0</td><td>0</td><td>0</td><td>0</td><td>1</td><td>1</td><td>0</td><td>0</td><td>0</td><td>1</td></tr>\n",
              "\t<tr><th scope=row>4</th><td> 4</td><td>S01E04</td><td>WINTER MIST           </td><td>0</td><td>0</td><td>0</td><td>0</td><td>0</td><td>1</td><td>0</td><td>⋯</td><td>0</td><td>0</td><td>0</td><td>1</td><td>0</td><td>1</td><td>0</td><td>0</td><td>0</td><td>0</td></tr>\n",
              "\t<tr><th scope=row>5</th><td> 5</td><td>S01E05</td><td>QUIET STREAM          </td><td>0</td><td>0</td><td>0</td><td>0</td><td>0</td><td>0</td><td>0</td><td>⋯</td><td>1</td><td>1</td><td>0</td><td>0</td><td>0</td><td>1</td><td>0</td><td>0</td><td>0</td><td>0</td></tr>\n",
              "\t<tr><th scope=row>6</th><td> 6</td><td>S01E06</td><td>WINTER MOON           </td><td>0</td><td>0</td><td>0</td><td>0</td><td>0</td><td>0</td><td>1</td><td>⋯</td><td>0</td><td>0</td><td>1</td><td>1</td><td>0</td><td>1</td><td>0</td><td>0</td><td>0</td><td>1</td></tr>\n",
              "\t<tr><th scope=row>7</th><td> 7</td><td>S01E07</td><td>AUTUMN MOUNTAINS      </td><td>0</td><td>0</td><td>0</td><td>0</td><td>0</td><td>0</td><td>0</td><td>⋯</td><td>0</td><td>0</td><td>0</td><td>1</td><td>0</td><td>1</td><td>0</td><td>0</td><td>0</td><td>0</td></tr>\n",
              "\t<tr><th scope=row>8</th><td> 8</td><td>S01E08</td><td>PEACEFUL VALLEY       </td><td>0</td><td>0</td><td>0</td><td>0</td><td>0</td><td>1</td><td>0</td><td>⋯</td><td>0</td><td>0</td><td>0</td><td>0</td><td>0</td><td>1</td><td>0</td><td>0</td><td>0</td><td>0</td></tr>\n",
              "\t<tr><th scope=row>9</th><td> 9</td><td>S01E09</td><td>SEASCAPE              </td><td>0</td><td>1</td><td>0</td><td>0</td><td>0</td><td>0</td><td>0</td><td>⋯</td><td>0</td><td>0</td><td>0</td><td>0</td><td>0</td><td>0</td><td>0</td><td>0</td><td>0</td><td>0</td></tr>\n",
              "\t<tr><th scope=row>10</th><td>10</td><td>S01E10</td><td>MOUNTAIN LAKE         </td><td>0</td><td>0</td><td>0</td><td>0</td><td>0</td><td>1</td><td>0</td><td>⋯</td><td>0</td><td>0</td><td>0</td><td>0</td><td>0</td><td>1</td><td>0</td><td>0</td><td>0</td><td>0</td></tr>\n",
              "\t<tr><th scope=row>11</th><td>11</td><td>S01E11</td><td>WINTER GLOW           </td><td>0</td><td>0</td><td>0</td><td>0</td><td>0</td><td>0</td><td>0</td><td>⋯</td><td>0</td><td>0</td><td>0</td><td>0</td><td>0</td><td>1</td><td>0</td><td>0</td><td>0</td><td>0</td></tr>\n",
              "\t<tr><th scope=row>12</th><td>12</td><td>S01E12</td><td>SNOWFALL              </td><td>0</td><td>0</td><td>0</td><td>0</td><td>0</td><td>0</td><td>0</td><td>⋯</td><td>0</td><td>0</td><td>0</td><td>1</td><td>0</td><td>1</td><td>0</td><td>0</td><td>0</td><td>0</td></tr>\n",
              "\t<tr><th scope=row>13</th><td>13</td><td>S01E13</td><td>FINAL REFLECTIONS     </td><td>0</td><td>0</td><td>0</td><td>0</td><td>0</td><td>1</td><td>0</td><td>⋯</td><td>0</td><td>0</td><td>0</td><td>1</td><td>0</td><td>1</td><td>0</td><td>0</td><td>0</td><td>0</td></tr>\n",
              "\t<tr><th scope=row>14</th><td>14</td><td>S02E01</td><td>MEADOW LAKE           </td><td>0</td><td>0</td><td>0</td><td>0</td><td>0</td><td>1</td><td>0</td><td>⋯</td><td>0</td><td>0</td><td>0</td><td>1</td><td>0</td><td>1</td><td>0</td><td>0</td><td>0</td><td>0</td></tr>\n",
              "\t<tr><th scope=row>15</th><td>15</td><td>S02E02</td><td>WINTER SUN            </td><td>0</td><td>0</td><td>0</td><td>0</td><td>0</td><td>0</td><td>0</td><td>⋯</td><td>0</td><td>0</td><td>1</td><td>0</td><td>1</td><td>1</td><td>0</td><td>0</td><td>0</td><td>0</td></tr>\n",
              "\t<tr><th scope=row>16</th><td>16</td><td>S02E03</td><td>EBONY SEA             </td><td>0</td><td>0</td><td>0</td><td>0</td><td>0</td><td>0</td><td>0</td><td>⋯</td><td>0</td><td>0</td><td>0</td><td>0</td><td>1</td><td>1</td><td>0</td><td>1</td><td>0</td><td>0</td></tr>\n",
              "\t<tr><th scope=row>17</th><td>17</td><td>S02E04</td><td>SHADES OF GREY        </td><td>0</td><td>0</td><td>0</td><td>0</td><td>0</td><td>1</td><td>1</td><td>⋯</td><td>0</td><td>0</td><td>1</td><td>1</td><td>0</td><td>1</td><td>0</td><td>0</td><td>0</td><td>0</td></tr>\n",
              "\t<tr><th scope=row>18</th><td>18</td><td>S02E05</td><td>AUTUMN SPLENDOR       </td><td>0</td><td>0</td><td>0</td><td>0</td><td>0</td><td>1</td><td>0</td><td>⋯</td><td>0</td><td>0</td><td>0</td><td>0</td><td>0</td><td>1</td><td>0</td><td>0</td><td>0</td><td>0</td></tr>\n",
              "\t<tr><th scope=row>19</th><td>19</td><td>S02E06</td><td>BLACK RIVER           </td><td>0</td><td>0</td><td>0</td><td>0</td><td>0</td><td>1</td><td>0</td><td>⋯</td><td>1</td><td>0</td><td>0</td><td>0</td><td>0</td><td>1</td><td>0</td><td>0</td><td>0</td><td>0</td></tr>\n",
              "\t<tr><th scope=row>20</th><td>20</td><td>S02E07</td><td>BROWN MOUNTAIN        </td><td>0</td><td>0</td><td>0</td><td>0</td><td>0</td><td>0</td><td>0</td><td>⋯</td><td>0</td><td>0</td><td>0</td><td>0</td><td>0</td><td>1</td><td>0</td><td>0</td><td>0</td><td>0</td></tr>\n",
              "\t<tr><th scope=row>21</th><td>21</td><td>S02E08</td><td>REFLECTIONS           </td><td>0</td><td>0</td><td>0</td><td>0</td><td>0</td><td>1</td><td>0</td><td>⋯</td><td>0</td><td>0</td><td>0</td><td>1</td><td>0</td><td>1</td><td>0</td><td>0</td><td>0</td><td>0</td></tr>\n",
              "\t<tr><th scope=row>22</th><td>22</td><td>S02E09</td><td>BLACK &amp; WHITE SEASCAPE</td><td>0</td><td>0</td><td>0</td><td>0</td><td>0</td><td>0</td><td>0</td><td>⋯</td><td>0</td><td>1</td><td>0</td><td>0</td><td>1</td><td>1</td><td>0</td><td>1</td><td>0</td><td>0</td></tr>\n",
              "\t<tr><th scope=row>23</th><td>23</td><td>S02E10</td><td>LAZY RIVER            </td><td>0</td><td>0</td><td>0</td><td>0</td><td>0</td><td>0</td><td>0</td><td>⋯</td><td>1</td><td>0</td><td>0</td><td>0</td><td>0</td><td>1</td><td>0</td><td>0</td><td>0</td><td>0</td></tr>\n",
              "\t<tr><th scope=row>24</th><td>24</td><td>S02E11</td><td>BLACK WATERFALL       </td><td>0</td><td>0</td><td>0</td><td>0</td><td>0</td><td>1</td><td>0</td><td>⋯</td><td>1</td><td>1</td><td>0</td><td>0</td><td>0</td><td>1</td><td>1</td><td>0</td><td>0</td><td>0</td></tr>\n",
              "\t<tr><th scope=row>25</th><td>25</td><td>S02E12</td><td>MOUNTAIN WATERFALL    </td><td>0</td><td>0</td><td>0</td><td>0</td><td>0</td><td>0</td><td>0</td><td>⋯</td><td>0</td><td>0</td><td>0</td><td>1</td><td>0</td><td>1</td><td>1</td><td>0</td><td>0</td><td>0</td></tr>\n",
              "\t<tr><th scope=row>26</th><td>26</td><td>S02E13</td><td>FINAL GRACE           </td><td>0</td><td>0</td><td>0</td><td>0</td><td>0</td><td>1</td><td>0</td><td>⋯</td><td>0</td><td>0</td><td>0</td><td>1</td><td>0</td><td>1</td><td>0</td><td>0</td><td>0</td><td>0</td></tr>\n",
              "\t<tr><th scope=row>27</th><td>27</td><td>S03E01</td><td>MOUNTAIN RETREAT      </td><td>0</td><td>0</td><td>0</td><td>0</td><td>0</td><td>1</td><td>1</td><td>⋯</td><td>0</td><td>0</td><td>0</td><td>0</td><td>0</td><td>1</td><td>0</td><td>0</td><td>0</td><td>0</td></tr>\n",
              "\t<tr><th scope=row>28</th><td>28</td><td>S03E02</td><td>BLUE MOON             </td><td>0</td><td>0</td><td>0</td><td>0</td><td>0</td><td>0</td><td>0</td><td>⋯</td><td>0</td><td>0</td><td>0</td><td>0</td><td>0</td><td>1</td><td>0</td><td>1</td><td>0</td><td>0</td></tr>\n",
              "\t<tr><th scope=row>29</th><td>29</td><td>S03E03</td><td>BUBBLING STREAM       </td><td>0</td><td>0</td><td>0</td><td>0</td><td>0</td><td>0</td><td>0</td><td>⋯</td><td>1</td><td>1</td><td>0</td><td>0</td><td>0</td><td>1</td><td>0</td><td>0</td><td>0</td><td>0</td></tr>\n",
              "\t<tr><th scope=row>30</th><td>30</td><td>S03E04</td><td>WINTER NIGHT          </td><td>0</td><td>0</td><td>0</td><td>0</td><td>0</td><td>0</td><td>1</td><td>⋯</td><td>0</td><td>0</td><td>1</td><td>0</td><td>0</td><td>1</td><td>0</td><td>0</td><td>0</td><td>1</td></tr>\n",
              "\t<tr><th scope=row>31</th><td>31</td><td>S03E05</td><td>DISTANT HILLS         </td><td>0</td><td>0</td><td>0</td><td>0</td><td>0</td><td>0</td><td>0</td><td>⋯</td><td>0</td><td>0</td><td>0</td><td>0</td><td>0</td><td>1</td><td>0</td><td>0</td><td>0</td><td>0</td></tr>\n",
              "\t<tr><th scope=row>32</th><td>32</td><td>S03E06</td><td>COVERED BRIDGE        </td><td>0</td><td>0</td><td>0</td><td>1</td><td>0</td><td>0</td><td>0</td><td>⋯</td><td>0</td><td>0</td><td>0</td><td>0</td><td>0</td><td>1</td><td>0</td><td>0</td><td>0</td><td>0</td></tr>\n",
              "\t<tr><th scope=row>33</th><td>33</td><td>S03E07</td><td>QUIET INLET           </td><td>0</td><td>0</td><td>0</td><td>0</td><td>0</td><td>0</td><td>0</td><td>⋯</td><td>0</td><td>0</td><td>0</td><td>0</td><td>0</td><td>1</td><td>0</td><td>0</td><td>0</td><td>0</td></tr>\n",
              "\t<tr><th scope=row>34</th><td>34</td><td>S03E08</td><td>NIGHT LIGHT           </td><td>0</td><td>0</td><td>0</td><td>0</td><td>0</td><td>0</td><td>0</td><td>⋯</td><td>0</td><td>0</td><td>0</td><td>0</td><td>0</td><td>0</td><td>0</td><td>1</td><td>0</td><td>0</td></tr>\n",
              "\t<tr><th scope=row>35</th><td>35</td><td>S03E09</td><td>THE OLD MILL          </td><td>0</td><td>0</td><td>0</td><td>0</td><td>0</td><td>1</td><td>1</td><td>⋯</td><td>1</td><td>0</td><td>0</td><td>0</td><td>0</td><td>1</td><td>0</td><td>0</td><td>0</td><td>0</td></tr>\n",
              "\t<tr><th scope=row>36</th><td>36</td><td>S03E10</td><td>CAMPFIRE              </td><td>0</td><td>0</td><td>0</td><td>0</td><td>0</td><td>1</td><td>0</td><td>⋯</td><td>0</td><td>0</td><td>0</td><td>0</td><td>0</td><td>1</td><td>0</td><td>0</td><td>0</td><td>0</td></tr>\n",
              "\t<tr><th scope=row>37</th><td>37</td><td>S03E11</td><td>RUSTIC BARN           </td><td>1</td><td>0</td><td>0</td><td>0</td><td>0</td><td>0</td><td>0</td><td>⋯</td><td>0</td><td>0</td><td>0</td><td>0</td><td>0</td><td>1</td><td>0</td><td>0</td><td>0</td><td>0</td></tr>\n",
              "\t<tr><th scope=row>38</th><td>38</td><td>S03E12</td><td>HIDDEN LAKE           </td><td>0</td><td>0</td><td>0</td><td>0</td><td>0</td><td>1</td><td>0</td><td>⋯</td><td>0</td><td>0</td><td>0</td><td>0</td><td>0</td><td>1</td><td>0</td><td>0</td><td>0</td><td>0</td></tr>\n",
              "\t<tr><th scope=row>39</th><td>39</td><td>S03E13</td><td>PEACEFUL WATERS       </td><td>0</td><td>0</td><td>0</td><td>0</td><td>0</td><td>0</td><td>0</td><td>⋯</td><td>0</td><td>0</td><td>0</td><td>1</td><td>0</td><td>1</td><td>0</td><td>0</td><td>0</td><td>0</td></tr>\n",
              "\t<tr><th scope=row>40</th><td>40</td><td>S04E01</td><td>PURPLE SPLENDOR       </td><td>0</td><td>0</td><td>0</td><td>0</td><td>0</td><td>0</td><td>1</td><td>⋯</td><td>0</td><td>0</td><td>1</td><td>0</td><td>0</td><td>1</td><td>0</td><td>0</td><td>0</td><td>1</td></tr>\n",
              "</tbody>\n",
              "</table>\n"
            ],
            "text/markdown": "\nA data.frame: 40 × 40\n\n| <!--/--> | TID &lt;int&gt; | EPISODE &lt;chr&gt; | TITLE &lt;chr&gt; | BARN &lt;int&gt; | BEACH &lt;int&gt; | BOAT &lt;int&gt; | BRIDGE &lt;int&gt; | BUILDING &lt;int&gt; | BUSHES &lt;int&gt; | CABIN &lt;int&gt; | ⋯ ⋯ | RIVER &lt;int&gt; | ROCKS &lt;int&gt; | SNOW &lt;int&gt; | SNOWY_MOUNTAIN &lt;int&gt; | SUN &lt;int&gt; | TREES &lt;int&gt; | WATERFALL &lt;int&gt; | WAVES &lt;int&gt; | WINDMILL &lt;int&gt; | WINTER &lt;int&gt; |\n|---|---|---|---|---|---|---|---|---|---|---|---|---|---|---|---|---|---|---|---|---|---|\n| 1 |  1 | S01E01 | A WALK IN THE WOODS    | 0 | 0 | 0 | 0 | 0 | 1 | 0 | ⋯ | 1 | 0 | 0 | 0 | 0 | 1 | 0 | 0 | 0 | 0 |\n| 2 |  2 | S01E02 | MT. MCKINLEY           | 0 | 0 | 0 | 0 | 0 | 0 | 1 | ⋯ | 0 | 0 | 1 | 1 | 0 | 1 | 0 | 0 | 0 | 1 |\n| 3 |  3 | S01E03 | EBONY SUNSET           | 0 | 0 | 0 | 0 | 0 | 0 | 1 | ⋯ | 0 | 0 | 0 | 0 | 1 | 1 | 0 | 0 | 0 | 1 |\n| 4 |  4 | S01E04 | WINTER MIST            | 0 | 0 | 0 | 0 | 0 | 1 | 0 | ⋯ | 0 | 0 | 0 | 1 | 0 | 1 | 0 | 0 | 0 | 0 |\n| 5 |  5 | S01E05 | QUIET STREAM           | 0 | 0 | 0 | 0 | 0 | 0 | 0 | ⋯ | 1 | 1 | 0 | 0 | 0 | 1 | 0 | 0 | 0 | 0 |\n| 6 |  6 | S01E06 | WINTER MOON            | 0 | 0 | 0 | 0 | 0 | 0 | 1 | ⋯ | 0 | 0 | 1 | 1 | 0 | 1 | 0 | 0 | 0 | 1 |\n| 7 |  7 | S01E07 | AUTUMN MOUNTAINS       | 0 | 0 | 0 | 0 | 0 | 0 | 0 | ⋯ | 0 | 0 | 0 | 1 | 0 | 1 | 0 | 0 | 0 | 0 |\n| 8 |  8 | S01E08 | PEACEFUL VALLEY        | 0 | 0 | 0 | 0 | 0 | 1 | 0 | ⋯ | 0 | 0 | 0 | 0 | 0 | 1 | 0 | 0 | 0 | 0 |\n| 9 |  9 | S01E09 | SEASCAPE               | 0 | 1 | 0 | 0 | 0 | 0 | 0 | ⋯ | 0 | 0 | 0 | 0 | 0 | 0 | 0 | 0 | 0 | 0 |\n| 10 | 10 | S01E10 | MOUNTAIN LAKE          | 0 | 0 | 0 | 0 | 0 | 1 | 0 | ⋯ | 0 | 0 | 0 | 0 | 0 | 1 | 0 | 0 | 0 | 0 |\n| 11 | 11 | S01E11 | WINTER GLOW            | 0 | 0 | 0 | 0 | 0 | 0 | 0 | ⋯ | 0 | 0 | 0 | 0 | 0 | 1 | 0 | 0 | 0 | 0 |\n| 12 | 12 | S01E12 | SNOWFALL               | 0 | 0 | 0 | 0 | 0 | 0 | 0 | ⋯ | 0 | 0 | 0 | 1 | 0 | 1 | 0 | 0 | 0 | 0 |\n| 13 | 13 | S01E13 | FINAL REFLECTIONS      | 0 | 0 | 0 | 0 | 0 | 1 | 0 | ⋯ | 0 | 0 | 0 | 1 | 0 | 1 | 0 | 0 | 0 | 0 |\n| 14 | 14 | S02E01 | MEADOW LAKE            | 0 | 0 | 0 | 0 | 0 | 1 | 0 | ⋯ | 0 | 0 | 0 | 1 | 0 | 1 | 0 | 0 | 0 | 0 |\n| 15 | 15 | S02E02 | WINTER SUN             | 0 | 0 | 0 | 0 | 0 | 0 | 0 | ⋯ | 0 | 0 | 1 | 0 | 1 | 1 | 0 | 0 | 0 | 0 |\n| 16 | 16 | S02E03 | EBONY SEA              | 0 | 0 | 0 | 0 | 0 | 0 | 0 | ⋯ | 0 | 0 | 0 | 0 | 1 | 1 | 0 | 1 | 0 | 0 |\n| 17 | 17 | S02E04 | SHADES OF GREY         | 0 | 0 | 0 | 0 | 0 | 1 | 1 | ⋯ | 0 | 0 | 1 | 1 | 0 | 1 | 0 | 0 | 0 | 0 |\n| 18 | 18 | S02E05 | AUTUMN SPLENDOR        | 0 | 0 | 0 | 0 | 0 | 1 | 0 | ⋯ | 0 | 0 | 0 | 0 | 0 | 1 | 0 | 0 | 0 | 0 |\n| 19 | 19 | S02E06 | BLACK RIVER            | 0 | 0 | 0 | 0 | 0 | 1 | 0 | ⋯ | 1 | 0 | 0 | 0 | 0 | 1 | 0 | 0 | 0 | 0 |\n| 20 | 20 | S02E07 | BROWN MOUNTAIN         | 0 | 0 | 0 | 0 | 0 | 0 | 0 | ⋯ | 0 | 0 | 0 | 0 | 0 | 1 | 0 | 0 | 0 | 0 |\n| 21 | 21 | S02E08 | REFLECTIONS            | 0 | 0 | 0 | 0 | 0 | 1 | 0 | ⋯ | 0 | 0 | 0 | 1 | 0 | 1 | 0 | 0 | 0 | 0 |\n| 22 | 22 | S02E09 | BLACK &amp; WHITE SEASCAPE | 0 | 0 | 0 | 0 | 0 | 0 | 0 | ⋯ | 0 | 1 | 0 | 0 | 1 | 1 | 0 | 1 | 0 | 0 |\n| 23 | 23 | S02E10 | LAZY RIVER             | 0 | 0 | 0 | 0 | 0 | 0 | 0 | ⋯ | 1 | 0 | 0 | 0 | 0 | 1 | 0 | 0 | 0 | 0 |\n| 24 | 24 | S02E11 | BLACK WATERFALL        | 0 | 0 | 0 | 0 | 0 | 1 | 0 | ⋯ | 1 | 1 | 0 | 0 | 0 | 1 | 1 | 0 | 0 | 0 |\n| 25 | 25 | S02E12 | MOUNTAIN WATERFALL     | 0 | 0 | 0 | 0 | 0 | 0 | 0 | ⋯ | 0 | 0 | 0 | 1 | 0 | 1 | 1 | 0 | 0 | 0 |\n| 26 | 26 | S02E13 | FINAL GRACE            | 0 | 0 | 0 | 0 | 0 | 1 | 0 | ⋯ | 0 | 0 | 0 | 1 | 0 | 1 | 0 | 0 | 0 | 0 |\n| 27 | 27 | S03E01 | MOUNTAIN RETREAT       | 0 | 0 | 0 | 0 | 0 | 1 | 1 | ⋯ | 0 | 0 | 0 | 0 | 0 | 1 | 0 | 0 | 0 | 0 |\n| 28 | 28 | S03E02 | BLUE MOON              | 0 | 0 | 0 | 0 | 0 | 0 | 0 | ⋯ | 0 | 0 | 0 | 0 | 0 | 1 | 0 | 1 | 0 | 0 |\n| 29 | 29 | S03E03 | BUBBLING STREAM        | 0 | 0 | 0 | 0 | 0 | 0 | 0 | ⋯ | 1 | 1 | 0 | 0 | 0 | 1 | 0 | 0 | 0 | 0 |\n| 30 | 30 | S03E04 | WINTER NIGHT           | 0 | 0 | 0 | 0 | 0 | 0 | 1 | ⋯ | 0 | 0 | 1 | 0 | 0 | 1 | 0 | 0 | 0 | 1 |\n| 31 | 31 | S03E05 | DISTANT HILLS          | 0 | 0 | 0 | 0 | 0 | 0 | 0 | ⋯ | 0 | 0 | 0 | 0 | 0 | 1 | 0 | 0 | 0 | 0 |\n| 32 | 32 | S03E06 | COVERED BRIDGE         | 0 | 0 | 0 | 1 | 0 | 0 | 0 | ⋯ | 0 | 0 | 0 | 0 | 0 | 1 | 0 | 0 | 0 | 0 |\n| 33 | 33 | S03E07 | QUIET INLET            | 0 | 0 | 0 | 0 | 0 | 0 | 0 | ⋯ | 0 | 0 | 0 | 0 | 0 | 1 | 0 | 0 | 0 | 0 |\n| 34 | 34 | S03E08 | NIGHT LIGHT            | 0 | 0 | 0 | 0 | 0 | 0 | 0 | ⋯ | 0 | 0 | 0 | 0 | 0 | 0 | 0 | 1 | 0 | 0 |\n| 35 | 35 | S03E09 | THE OLD MILL           | 0 | 0 | 0 | 0 | 0 | 1 | 1 | ⋯ | 1 | 0 | 0 | 0 | 0 | 1 | 0 | 0 | 0 | 0 |\n| 36 | 36 | S03E10 | CAMPFIRE               | 0 | 0 | 0 | 0 | 0 | 1 | 0 | ⋯ | 0 | 0 | 0 | 0 | 0 | 1 | 0 | 0 | 0 | 0 |\n| 37 | 37 | S03E11 | RUSTIC BARN            | 1 | 0 | 0 | 0 | 0 | 0 | 0 | ⋯ | 0 | 0 | 0 | 0 | 0 | 1 | 0 | 0 | 0 | 0 |\n| 38 | 38 | S03E12 | HIDDEN LAKE            | 0 | 0 | 0 | 0 | 0 | 1 | 0 | ⋯ | 0 | 0 | 0 | 0 | 0 | 1 | 0 | 0 | 0 | 0 |\n| 39 | 39 | S03E13 | PEACEFUL WATERS        | 0 | 0 | 0 | 0 | 0 | 0 | 0 | ⋯ | 0 | 0 | 0 | 1 | 0 | 1 | 0 | 0 | 0 | 0 |\n| 40 | 40 | S04E01 | PURPLE SPLENDOR        | 0 | 0 | 0 | 0 | 0 | 0 | 1 | ⋯ | 0 | 0 | 1 | 0 | 0 | 1 | 0 | 0 | 0 | 1 |\n\n",
            "text/latex": "A data.frame: 40 × 40\n\\begin{tabular}{r|lllllllllllllllllllll}\n  & TID & EPISODE & TITLE & BARN & BEACH & BOAT & BRIDGE & BUILDING & BUSHES & CABIN & ⋯ & RIVER & ROCKS & SNOW & SNOWY\\_MOUNTAIN & SUN & TREES & WATERFALL & WAVES & WINDMILL & WINTER\\\\\n  & <int> & <chr> & <chr> & <int> & <int> & <int> & <int> & <int> & <int> & <int> & ⋯ & <int> & <int> & <int> & <int> & <int> & <int> & <int> & <int> & <int> & <int>\\\\\n\\hline\n\t1 &  1 & S01E01 & A WALK IN THE WOODS    & 0 & 0 & 0 & 0 & 0 & 1 & 0 & ⋯ & 1 & 0 & 0 & 0 & 0 & 1 & 0 & 0 & 0 & 0\\\\\n\t2 &  2 & S01E02 & MT. MCKINLEY           & 0 & 0 & 0 & 0 & 0 & 0 & 1 & ⋯ & 0 & 0 & 1 & 1 & 0 & 1 & 0 & 0 & 0 & 1\\\\\n\t3 &  3 & S01E03 & EBONY SUNSET           & 0 & 0 & 0 & 0 & 0 & 0 & 1 & ⋯ & 0 & 0 & 0 & 0 & 1 & 1 & 0 & 0 & 0 & 1\\\\\n\t4 &  4 & S01E04 & WINTER MIST            & 0 & 0 & 0 & 0 & 0 & 1 & 0 & ⋯ & 0 & 0 & 0 & 1 & 0 & 1 & 0 & 0 & 0 & 0\\\\\n\t5 &  5 & S01E05 & QUIET STREAM           & 0 & 0 & 0 & 0 & 0 & 0 & 0 & ⋯ & 1 & 1 & 0 & 0 & 0 & 1 & 0 & 0 & 0 & 0\\\\\n\t6 &  6 & S01E06 & WINTER MOON            & 0 & 0 & 0 & 0 & 0 & 0 & 1 & ⋯ & 0 & 0 & 1 & 1 & 0 & 1 & 0 & 0 & 0 & 1\\\\\n\t7 &  7 & S01E07 & AUTUMN MOUNTAINS       & 0 & 0 & 0 & 0 & 0 & 0 & 0 & ⋯ & 0 & 0 & 0 & 1 & 0 & 1 & 0 & 0 & 0 & 0\\\\\n\t8 &  8 & S01E08 & PEACEFUL VALLEY        & 0 & 0 & 0 & 0 & 0 & 1 & 0 & ⋯ & 0 & 0 & 0 & 0 & 0 & 1 & 0 & 0 & 0 & 0\\\\\n\t9 &  9 & S01E09 & SEASCAPE               & 0 & 1 & 0 & 0 & 0 & 0 & 0 & ⋯ & 0 & 0 & 0 & 0 & 0 & 0 & 0 & 0 & 0 & 0\\\\\n\t10 & 10 & S01E10 & MOUNTAIN LAKE          & 0 & 0 & 0 & 0 & 0 & 1 & 0 & ⋯ & 0 & 0 & 0 & 0 & 0 & 1 & 0 & 0 & 0 & 0\\\\\n\t11 & 11 & S01E11 & WINTER GLOW            & 0 & 0 & 0 & 0 & 0 & 0 & 0 & ⋯ & 0 & 0 & 0 & 0 & 0 & 1 & 0 & 0 & 0 & 0\\\\\n\t12 & 12 & S01E12 & SNOWFALL               & 0 & 0 & 0 & 0 & 0 & 0 & 0 & ⋯ & 0 & 0 & 0 & 1 & 0 & 1 & 0 & 0 & 0 & 0\\\\\n\t13 & 13 & S01E13 & FINAL REFLECTIONS      & 0 & 0 & 0 & 0 & 0 & 1 & 0 & ⋯ & 0 & 0 & 0 & 1 & 0 & 1 & 0 & 0 & 0 & 0\\\\\n\t14 & 14 & S02E01 & MEADOW LAKE            & 0 & 0 & 0 & 0 & 0 & 1 & 0 & ⋯ & 0 & 0 & 0 & 1 & 0 & 1 & 0 & 0 & 0 & 0\\\\\n\t15 & 15 & S02E02 & WINTER SUN             & 0 & 0 & 0 & 0 & 0 & 0 & 0 & ⋯ & 0 & 0 & 1 & 0 & 1 & 1 & 0 & 0 & 0 & 0\\\\\n\t16 & 16 & S02E03 & EBONY SEA              & 0 & 0 & 0 & 0 & 0 & 0 & 0 & ⋯ & 0 & 0 & 0 & 0 & 1 & 1 & 0 & 1 & 0 & 0\\\\\n\t17 & 17 & S02E04 & SHADES OF GREY         & 0 & 0 & 0 & 0 & 0 & 1 & 1 & ⋯ & 0 & 0 & 1 & 1 & 0 & 1 & 0 & 0 & 0 & 0\\\\\n\t18 & 18 & S02E05 & AUTUMN SPLENDOR        & 0 & 0 & 0 & 0 & 0 & 1 & 0 & ⋯ & 0 & 0 & 0 & 0 & 0 & 1 & 0 & 0 & 0 & 0\\\\\n\t19 & 19 & S02E06 & BLACK RIVER            & 0 & 0 & 0 & 0 & 0 & 1 & 0 & ⋯ & 1 & 0 & 0 & 0 & 0 & 1 & 0 & 0 & 0 & 0\\\\\n\t20 & 20 & S02E07 & BROWN MOUNTAIN         & 0 & 0 & 0 & 0 & 0 & 0 & 0 & ⋯ & 0 & 0 & 0 & 0 & 0 & 1 & 0 & 0 & 0 & 0\\\\\n\t21 & 21 & S02E08 & REFLECTIONS            & 0 & 0 & 0 & 0 & 0 & 1 & 0 & ⋯ & 0 & 0 & 0 & 1 & 0 & 1 & 0 & 0 & 0 & 0\\\\\n\t22 & 22 & S02E09 & BLACK \\& WHITE SEASCAPE & 0 & 0 & 0 & 0 & 0 & 0 & 0 & ⋯ & 0 & 1 & 0 & 0 & 1 & 1 & 0 & 1 & 0 & 0\\\\\n\t23 & 23 & S02E10 & LAZY RIVER             & 0 & 0 & 0 & 0 & 0 & 0 & 0 & ⋯ & 1 & 0 & 0 & 0 & 0 & 1 & 0 & 0 & 0 & 0\\\\\n\t24 & 24 & S02E11 & BLACK WATERFALL        & 0 & 0 & 0 & 0 & 0 & 1 & 0 & ⋯ & 1 & 1 & 0 & 0 & 0 & 1 & 1 & 0 & 0 & 0\\\\\n\t25 & 25 & S02E12 & MOUNTAIN WATERFALL     & 0 & 0 & 0 & 0 & 0 & 0 & 0 & ⋯ & 0 & 0 & 0 & 1 & 0 & 1 & 1 & 0 & 0 & 0\\\\\n\t26 & 26 & S02E13 & FINAL GRACE            & 0 & 0 & 0 & 0 & 0 & 1 & 0 & ⋯ & 0 & 0 & 0 & 1 & 0 & 1 & 0 & 0 & 0 & 0\\\\\n\t27 & 27 & S03E01 & MOUNTAIN RETREAT       & 0 & 0 & 0 & 0 & 0 & 1 & 1 & ⋯ & 0 & 0 & 0 & 0 & 0 & 1 & 0 & 0 & 0 & 0\\\\\n\t28 & 28 & S03E02 & BLUE MOON              & 0 & 0 & 0 & 0 & 0 & 0 & 0 & ⋯ & 0 & 0 & 0 & 0 & 0 & 1 & 0 & 1 & 0 & 0\\\\\n\t29 & 29 & S03E03 & BUBBLING STREAM        & 0 & 0 & 0 & 0 & 0 & 0 & 0 & ⋯ & 1 & 1 & 0 & 0 & 0 & 1 & 0 & 0 & 0 & 0\\\\\n\t30 & 30 & S03E04 & WINTER NIGHT           & 0 & 0 & 0 & 0 & 0 & 0 & 1 & ⋯ & 0 & 0 & 1 & 0 & 0 & 1 & 0 & 0 & 0 & 1\\\\\n\t31 & 31 & S03E05 & DISTANT HILLS          & 0 & 0 & 0 & 0 & 0 & 0 & 0 & ⋯ & 0 & 0 & 0 & 0 & 0 & 1 & 0 & 0 & 0 & 0\\\\\n\t32 & 32 & S03E06 & COVERED BRIDGE         & 0 & 0 & 0 & 1 & 0 & 0 & 0 & ⋯ & 0 & 0 & 0 & 0 & 0 & 1 & 0 & 0 & 0 & 0\\\\\n\t33 & 33 & S03E07 & QUIET INLET            & 0 & 0 & 0 & 0 & 0 & 0 & 0 & ⋯ & 0 & 0 & 0 & 0 & 0 & 1 & 0 & 0 & 0 & 0\\\\\n\t34 & 34 & S03E08 & NIGHT LIGHT            & 0 & 0 & 0 & 0 & 0 & 0 & 0 & ⋯ & 0 & 0 & 0 & 0 & 0 & 0 & 0 & 1 & 0 & 0\\\\\n\t35 & 35 & S03E09 & THE OLD MILL           & 0 & 0 & 0 & 0 & 0 & 1 & 1 & ⋯ & 1 & 0 & 0 & 0 & 0 & 1 & 0 & 0 & 0 & 0\\\\\n\t36 & 36 & S03E10 & CAMPFIRE               & 0 & 0 & 0 & 0 & 0 & 1 & 0 & ⋯ & 0 & 0 & 0 & 0 & 0 & 1 & 0 & 0 & 0 & 0\\\\\n\t37 & 37 & S03E11 & RUSTIC BARN            & 1 & 0 & 0 & 0 & 0 & 0 & 0 & ⋯ & 0 & 0 & 0 & 0 & 0 & 1 & 0 & 0 & 0 & 0\\\\\n\t38 & 38 & S03E12 & HIDDEN LAKE            & 0 & 0 & 0 & 0 & 0 & 1 & 0 & ⋯ & 0 & 0 & 0 & 0 & 0 & 1 & 0 & 0 & 0 & 0\\\\\n\t39 & 39 & S03E13 & PEACEFUL WATERS        & 0 & 0 & 0 & 0 & 0 & 0 & 0 & ⋯ & 0 & 0 & 0 & 1 & 0 & 1 & 0 & 0 & 0 & 0\\\\\n\t40 & 40 & S04E01 & PURPLE SPLENDOR        & 0 & 0 & 0 & 0 & 0 & 0 & 1 & ⋯ & 0 & 0 & 1 & 0 & 0 & 1 & 0 & 0 & 0 & 1\\\\\n\\end{tabular}\n",
            "text/plain": [
              "   TID EPISODE TITLE                  BARN BEACH BOAT BRIDGE BUILDING BUSHES\n",
              "1   1  S01E01  A WALK IN THE WOODS    0    0     0    0      0        1     \n",
              "2   2  S01E02  MT. MCKINLEY           0    0     0    0      0        0     \n",
              "3   3  S01E03  EBONY SUNSET           0    0     0    0      0        0     \n",
              "4   4  S01E04  WINTER MIST            0    0     0    0      0        1     \n",
              "5   5  S01E05  QUIET STREAM           0    0     0    0      0        0     \n",
              "6   6  S01E06  WINTER MOON            0    0     0    0      0        0     \n",
              "7   7  S01E07  AUTUMN MOUNTAINS       0    0     0    0      0        0     \n",
              "8   8  S01E08  PEACEFUL VALLEY        0    0     0    0      0        1     \n",
              "9   9  S01E09  SEASCAPE               0    1     0    0      0        0     \n",
              "10 10  S01E10  MOUNTAIN LAKE          0    0     0    0      0        1     \n",
              "11 11  S01E11  WINTER GLOW            0    0     0    0      0        0     \n",
              "12 12  S01E12  SNOWFALL               0    0     0    0      0        0     \n",
              "13 13  S01E13  FINAL REFLECTIONS      0    0     0    0      0        1     \n",
              "14 14  S02E01  MEADOW LAKE            0    0     0    0      0        1     \n",
              "15 15  S02E02  WINTER SUN             0    0     0    0      0        0     \n",
              "16 16  S02E03  EBONY SEA              0    0     0    0      0        0     \n",
              "17 17  S02E04  SHADES OF GREY         0    0     0    0      0        1     \n",
              "18 18  S02E05  AUTUMN SPLENDOR        0    0     0    0      0        1     \n",
              "19 19  S02E06  BLACK RIVER            0    0     0    0      0        1     \n",
              "20 20  S02E07  BROWN MOUNTAIN         0    0     0    0      0        0     \n",
              "21 21  S02E08  REFLECTIONS            0    0     0    0      0        1     \n",
              "22 22  S02E09  BLACK & WHITE SEASCAPE 0    0     0    0      0        0     \n",
              "23 23  S02E10  LAZY RIVER             0    0     0    0      0        0     \n",
              "24 24  S02E11  BLACK WATERFALL        0    0     0    0      0        1     \n",
              "25 25  S02E12  MOUNTAIN WATERFALL     0    0     0    0      0        0     \n",
              "26 26  S02E13  FINAL GRACE            0    0     0    0      0        1     \n",
              "27 27  S03E01  MOUNTAIN RETREAT       0    0     0    0      0        1     \n",
              "28 28  S03E02  BLUE MOON              0    0     0    0      0        0     \n",
              "29 29  S03E03  BUBBLING STREAM        0    0     0    0      0        0     \n",
              "30 30  S03E04  WINTER NIGHT           0    0     0    0      0        0     \n",
              "31 31  S03E05  DISTANT HILLS          0    0     0    0      0        0     \n",
              "32 32  S03E06  COVERED BRIDGE         0    0     0    1      0        0     \n",
              "33 33  S03E07  QUIET INLET            0    0     0    0      0        0     \n",
              "34 34  S03E08  NIGHT LIGHT            0    0     0    0      0        0     \n",
              "35 35  S03E09  THE OLD MILL           0    0     0    0      0        1     \n",
              "36 36  S03E10  CAMPFIRE               0    0     0    0      0        1     \n",
              "37 37  S03E11  RUSTIC BARN            1    0     0    0      0        0     \n",
              "38 38  S03E12  HIDDEN LAKE            0    0     0    0      0        1     \n",
              "39 39  S03E13  PEACEFUL WATERS        0    0     0    0      0        0     \n",
              "40 40  S04E01  PURPLE SPLENDOR        0    0     0    0      0        0     \n",
              "   CABIN ⋯ RIVER ROCKS SNOW SNOWY_MOUNTAIN SUN TREES WATERFALL WAVES WINDMILL\n",
              "1  0     ⋯ 1     0     0    0              0   1     0         0     0       \n",
              "2  1     ⋯ 0     0     1    1              0   1     0         0     0       \n",
              "3  1     ⋯ 0     0     0    0              1   1     0         0     0       \n",
              "4  0     ⋯ 0     0     0    1              0   1     0         0     0       \n",
              "5  0     ⋯ 1     1     0    0              0   1     0         0     0       \n",
              "6  1     ⋯ 0     0     1    1              0   1     0         0     0       \n",
              "7  0     ⋯ 0     0     0    1              0   1     0         0     0       \n",
              "8  0     ⋯ 0     0     0    0              0   1     0         0     0       \n",
              "9  0     ⋯ 0     0     0    0              0   0     0         0     0       \n",
              "10 0     ⋯ 0     0     0    0              0   1     0         0     0       \n",
              "11 0     ⋯ 0     0     0    0              0   1     0         0     0       \n",
              "12 0     ⋯ 0     0     0    1              0   1     0         0     0       \n",
              "13 0     ⋯ 0     0     0    1              0   1     0         0     0       \n",
              "14 0     ⋯ 0     0     0    1              0   1     0         0     0       \n",
              "15 0     ⋯ 0     0     1    0              1   1     0         0     0       \n",
              "16 0     ⋯ 0     0     0    0              1   1     0         1     0       \n",
              "17 1     ⋯ 0     0     1    1              0   1     0         0     0       \n",
              "18 0     ⋯ 0     0     0    0              0   1     0         0     0       \n",
              "19 0     ⋯ 1     0     0    0              0   1     0         0     0       \n",
              "20 0     ⋯ 0     0     0    0              0   1     0         0     0       \n",
              "21 0     ⋯ 0     0     0    1              0   1     0         0     0       \n",
              "22 0     ⋯ 0     1     0    0              1   1     0         1     0       \n",
              "23 0     ⋯ 1     0     0    0              0   1     0         0     0       \n",
              "24 0     ⋯ 1     1     0    0              0   1     1         0     0       \n",
              "25 0     ⋯ 0     0     0    1              0   1     1         0     0       \n",
              "26 0     ⋯ 0     0     0    1              0   1     0         0     0       \n",
              "27 1     ⋯ 0     0     0    0              0   1     0         0     0       \n",
              "28 0     ⋯ 0     0     0    0              0   1     0         1     0       \n",
              "29 0     ⋯ 1     1     0    0              0   1     0         0     0       \n",
              "30 1     ⋯ 0     0     1    0              0   1     0         0     0       \n",
              "31 0     ⋯ 0     0     0    0              0   1     0         0     0       \n",
              "32 0     ⋯ 0     0     0    0              0   1     0         0     0       \n",
              "33 0     ⋯ 0     0     0    0              0   1     0         0     0       \n",
              "34 0     ⋯ 0     0     0    0              0   0     0         1     0       \n",
              "35 1     ⋯ 1     0     0    0              0   1     0         0     0       \n",
              "36 0     ⋯ 0     0     0    0              0   1     0         0     0       \n",
              "37 0     ⋯ 0     0     0    0              0   1     0         0     0       \n",
              "38 0     ⋯ 0     0     0    0              0   1     0         0     0       \n",
              "39 0     ⋯ 0     0     0    1              0   1     0         0     0       \n",
              "40 1     ⋯ 0     0     1    0              0   1     0         0     0       \n",
              "   WINTER\n",
              "1  0     \n",
              "2  1     \n",
              "3  1     \n",
              "4  0     \n",
              "5  0     \n",
              "6  1     \n",
              "7  0     \n",
              "8  0     \n",
              "9  0     \n",
              "10 0     \n",
              "11 0     \n",
              "12 0     \n",
              "13 0     \n",
              "14 0     \n",
              "15 0     \n",
              "16 0     \n",
              "17 0     \n",
              "18 0     \n",
              "19 0     \n",
              "20 0     \n",
              "21 0     \n",
              "22 0     \n",
              "23 0     \n",
              "24 0     \n",
              "25 0     \n",
              "26 0     \n",
              "27 0     \n",
              "28 0     \n",
              "29 0     \n",
              "30 1     \n",
              "31 0     \n",
              "32 0     \n",
              "33 0     \n",
              "34 0     \n",
              "35 0     \n",
              "36 0     \n",
              "37 0     \n",
              "38 0     \n",
              "39 0     \n",
              "40 1     "
            ]
          },
          "metadata": {}
        }
      ]
    },
    {
      "cell_type": "code",
      "metadata": {
        "id": "v4X90L11NZ5I",
        "outputId": "39308c6a-3b29-402c-8da9-8b1a36e56711",
        "colab": {
          "base_uri": "https://localhost:8080/",
          "height": 130
        }
      },
      "source": [
        "# Preprocess the dataframe - you'll complete this in Task 0 below.\n",
        "bobrossDB <- (bobross\n",
        "              %>% TODO # Create the new column called ANY_MOUNTAIN (and make sure the values are saved as integers)\n",
        "              %>% TODO # Drop the first three columns\n",
        "              )\n",
        "bobrossDB %>% head"
      ],
      "execution_count": 5,
      "outputs": [
        {
          "output_type": "error",
          "ename": "ERROR",
          "evalue": "ignored",
          "traceback": [
            "Error in TODO(.): could not find function \"TODO\"\nTraceback:\n",
            "1. bobross %>% TODO %>% TODO"
          ]
        }
      ]
    },
    {
      "cell_type": "markdown",
      "metadata": {
        "id": "DI6SLy0nNZ5J"
      },
      "source": [
        "***Task 0***\n",
        "\n",
        "There are three columns that are very similar: `SNOWY_MOUNTAIN`, `MOUNTAIN`, and `MOUNTAINS`.  Make a new column called `ANY_MOUNTAIN` that equals 1 if any of the three appear in a painting, and 0 if none of the three appear.  Also ensure that `ANY_MOUNTAIN` is an integer.  Then remove `SNOWY_MOUNTAIN`, `MOUNTAIN`, and `MOUNTAINS` from the data set. "
      ]
    },
    {
      "cell_type": "code",
      "metadata": {
        "id": "NpyqbxR-NZ5K",
        "outputId": "f898c191-1706-482d-fe7b-8ba084ba9594",
        "colab": {
          "base_uri": "https://localhost:8080/",
          "height": 428
        }
      },
      "source": [
        "(bobross\n",
        "%>% mutate(ANY_MOUNTAIN = SNOWY_MOUNTAIN, MOUNTAIN, MOUNTAINS)\n",
        "%>% select(-SNOWY_MOUNTAIN, -MOUNTAIN, -MOUNTAINS)\n",
        "%>% head\n",
        ")"
      ],
      "execution_count": 22,
      "outputs": [
        {
          "output_type": "display_data",
          "data": {
            "text/html": [
              "<table class=\"dataframe\">\n",
              "<caption>A data.frame: 6 × 38</caption>\n",
              "<thead>\n",
              "\t<tr><th></th><th scope=col>TID</th><th scope=col>EPISODE</th><th scope=col>TITLE</th><th scope=col>BARN</th><th scope=col>BEACH</th><th scope=col>BOAT</th><th scope=col>BRIDGE</th><th scope=col>BUILDING</th><th scope=col>BUSHES</th><th scope=col>CABIN</th><th scope=col>⋯</th><th scope=col>RIVER</th><th scope=col>ROCKS</th><th scope=col>SNOW</th><th scope=col>SUN</th><th scope=col>TREES</th><th scope=col>WATERFALL</th><th scope=col>WAVES</th><th scope=col>WINDMILL</th><th scope=col>WINTER</th><th scope=col>ANY_MOUNTAIN</th></tr>\n",
              "\t<tr><th></th><th scope=col>&lt;int&gt;</th><th scope=col>&lt;chr&gt;</th><th scope=col>&lt;chr&gt;</th><th scope=col>&lt;int&gt;</th><th scope=col>&lt;int&gt;</th><th scope=col>&lt;int&gt;</th><th scope=col>&lt;int&gt;</th><th scope=col>&lt;int&gt;</th><th scope=col>&lt;int&gt;</th><th scope=col>&lt;int&gt;</th><th scope=col>⋯</th><th scope=col>&lt;int&gt;</th><th scope=col>&lt;int&gt;</th><th scope=col>&lt;int&gt;</th><th scope=col>&lt;int&gt;</th><th scope=col>&lt;int&gt;</th><th scope=col>&lt;int&gt;</th><th scope=col>&lt;int&gt;</th><th scope=col>&lt;int&gt;</th><th scope=col>&lt;int&gt;</th><th scope=col>&lt;int&gt;</th></tr>\n",
              "</thead>\n",
              "<tbody>\n",
              "\t<tr><th scope=row>1</th><td>1</td><td>S01E01</td><td>A WALK IN THE WOODS</td><td>0</td><td>0</td><td>0</td><td>0</td><td>0</td><td>1</td><td>0</td><td>⋯</td><td>1</td><td>0</td><td>0</td><td>0</td><td>1</td><td>0</td><td>0</td><td>0</td><td>0</td><td>0</td></tr>\n",
              "\t<tr><th scope=row>2</th><td>2</td><td>S01E02</td><td>MT. MCKINLEY       </td><td>0</td><td>0</td><td>0</td><td>0</td><td>0</td><td>0</td><td>1</td><td>⋯</td><td>0</td><td>0</td><td>1</td><td>0</td><td>1</td><td>0</td><td>0</td><td>0</td><td>1</td><td>1</td></tr>\n",
              "\t<tr><th scope=row>3</th><td>3</td><td>S01E03</td><td>EBONY SUNSET       </td><td>0</td><td>0</td><td>0</td><td>0</td><td>0</td><td>0</td><td>1</td><td>⋯</td><td>0</td><td>0</td><td>0</td><td>1</td><td>1</td><td>0</td><td>0</td><td>0</td><td>1</td><td>0</td></tr>\n",
              "\t<tr><th scope=row>4</th><td>4</td><td>S01E04</td><td>WINTER MIST        </td><td>0</td><td>0</td><td>0</td><td>0</td><td>0</td><td>1</td><td>0</td><td>⋯</td><td>0</td><td>0</td><td>0</td><td>0</td><td>1</td><td>0</td><td>0</td><td>0</td><td>0</td><td>1</td></tr>\n",
              "\t<tr><th scope=row>5</th><td>5</td><td>S01E05</td><td>QUIET STREAM       </td><td>0</td><td>0</td><td>0</td><td>0</td><td>0</td><td>0</td><td>0</td><td>⋯</td><td>1</td><td>1</td><td>0</td><td>0</td><td>1</td><td>0</td><td>0</td><td>0</td><td>0</td><td>0</td></tr>\n",
              "\t<tr><th scope=row>6</th><td>6</td><td>S01E06</td><td>WINTER MOON        </td><td>0</td><td>0</td><td>0</td><td>0</td><td>0</td><td>0</td><td>1</td><td>⋯</td><td>0</td><td>0</td><td>1</td><td>0</td><td>1</td><td>0</td><td>0</td><td>0</td><td>1</td><td>1</td></tr>\n",
              "</tbody>\n",
              "</table>\n"
            ],
            "text/markdown": "\nA data.frame: 6 × 38\n\n| <!--/--> | TID &lt;int&gt; | EPISODE &lt;chr&gt; | TITLE &lt;chr&gt; | BARN &lt;int&gt; | BEACH &lt;int&gt; | BOAT &lt;int&gt; | BRIDGE &lt;int&gt; | BUILDING &lt;int&gt; | BUSHES &lt;int&gt; | CABIN &lt;int&gt; | ⋯ ⋯ | RIVER &lt;int&gt; | ROCKS &lt;int&gt; | SNOW &lt;int&gt; | SUN &lt;int&gt; | TREES &lt;int&gt; | WATERFALL &lt;int&gt; | WAVES &lt;int&gt; | WINDMILL &lt;int&gt; | WINTER &lt;int&gt; | ANY_MOUNTAIN &lt;int&gt; |\n|---|---|---|---|---|---|---|---|---|---|---|---|---|---|---|---|---|---|---|---|---|---|\n| 1 | 1 | S01E01 | A WALK IN THE WOODS | 0 | 0 | 0 | 0 | 0 | 1 | 0 | ⋯ | 1 | 0 | 0 | 0 | 1 | 0 | 0 | 0 | 0 | 0 |\n| 2 | 2 | S01E02 | MT. MCKINLEY        | 0 | 0 | 0 | 0 | 0 | 0 | 1 | ⋯ | 0 | 0 | 1 | 0 | 1 | 0 | 0 | 0 | 1 | 1 |\n| 3 | 3 | S01E03 | EBONY SUNSET        | 0 | 0 | 0 | 0 | 0 | 0 | 1 | ⋯ | 0 | 0 | 0 | 1 | 1 | 0 | 0 | 0 | 1 | 0 |\n| 4 | 4 | S01E04 | WINTER MIST         | 0 | 0 | 0 | 0 | 0 | 1 | 0 | ⋯ | 0 | 0 | 0 | 0 | 1 | 0 | 0 | 0 | 0 | 1 |\n| 5 | 5 | S01E05 | QUIET STREAM        | 0 | 0 | 0 | 0 | 0 | 0 | 0 | ⋯ | 1 | 1 | 0 | 0 | 1 | 0 | 0 | 0 | 0 | 0 |\n| 6 | 6 | S01E06 | WINTER MOON         | 0 | 0 | 0 | 0 | 0 | 0 | 1 | ⋯ | 0 | 0 | 1 | 0 | 1 | 0 | 0 | 0 | 1 | 1 |\n\n",
            "text/latex": "A data.frame: 6 × 38\n\\begin{tabular}{r|lllllllllllllllllllll}\n  & TID & EPISODE & TITLE & BARN & BEACH & BOAT & BRIDGE & BUILDING & BUSHES & CABIN & ⋯ & RIVER & ROCKS & SNOW & SUN & TREES & WATERFALL & WAVES & WINDMILL & WINTER & ANY\\_MOUNTAIN\\\\\n  & <int> & <chr> & <chr> & <int> & <int> & <int> & <int> & <int> & <int> & <int> & ⋯ & <int> & <int> & <int> & <int> & <int> & <int> & <int> & <int> & <int> & <int>\\\\\n\\hline\n\t1 & 1 & S01E01 & A WALK IN THE WOODS & 0 & 0 & 0 & 0 & 0 & 1 & 0 & ⋯ & 1 & 0 & 0 & 0 & 1 & 0 & 0 & 0 & 0 & 0\\\\\n\t2 & 2 & S01E02 & MT. MCKINLEY        & 0 & 0 & 0 & 0 & 0 & 0 & 1 & ⋯ & 0 & 0 & 1 & 0 & 1 & 0 & 0 & 0 & 1 & 1\\\\\n\t3 & 3 & S01E03 & EBONY SUNSET        & 0 & 0 & 0 & 0 & 0 & 0 & 1 & ⋯ & 0 & 0 & 0 & 1 & 1 & 0 & 0 & 0 & 1 & 0\\\\\n\t4 & 4 & S01E04 & WINTER MIST         & 0 & 0 & 0 & 0 & 0 & 1 & 0 & ⋯ & 0 & 0 & 0 & 0 & 1 & 0 & 0 & 0 & 0 & 1\\\\\n\t5 & 5 & S01E05 & QUIET STREAM        & 0 & 0 & 0 & 0 & 0 & 0 & 0 & ⋯ & 1 & 1 & 0 & 0 & 1 & 0 & 0 & 0 & 0 & 0\\\\\n\t6 & 6 & S01E06 & WINTER MOON         & 0 & 0 & 0 & 0 & 0 & 0 & 1 & ⋯ & 0 & 0 & 1 & 0 & 1 & 0 & 0 & 0 & 1 & 1\\\\\n\\end{tabular}\n",
            "text/plain": [
              "  TID EPISODE TITLE               BARN BEACH BOAT BRIDGE BUILDING BUSHES CABIN\n",
              "1 1   S01E01  A WALK IN THE WOODS 0    0     0    0      0        1      0    \n",
              "2 2   S01E02  MT. MCKINLEY        0    0     0    0      0        0      1    \n",
              "3 3   S01E03  EBONY SUNSET        0    0     0    0      0        0      1    \n",
              "4 4   S01E04  WINTER MIST         0    0     0    0      0        1      0    \n",
              "5 5   S01E05  QUIET STREAM        0    0     0    0      0        0      0    \n",
              "6 6   S01E06  WINTER MOON         0    0     0    0      0        0      1    \n",
              "  ⋯ RIVER ROCKS SNOW SUN TREES WATERFALL WAVES WINDMILL WINTER ANY_MOUNTAIN\n",
              "1 ⋯ 1     0     0    0   1     0         0     0        0      0           \n",
              "2 ⋯ 0     0     1    0   1     0         0     0        1      1           \n",
              "3 ⋯ 0     0     0    1   1     0         0     0        1      0           \n",
              "4 ⋯ 0     0     0    0   1     0         0     0        0      1           \n",
              "5 ⋯ 1     1     0    0   1     0         0     0        0      0           \n",
              "6 ⋯ 0     0     1    0   1     0         0     0        1      1           "
            ]
          },
          "metadata": {}
        }
      ]
    },
    {
      "cell_type": "markdown",
      "metadata": {
        "id": "sVw5lmedNZ5K"
      },
      "source": [
        "***Task 1*** \n",
        "\n",
        "Use `dplyr`/`tidyr` computations alone to compute the support of the LHS, the support of the RHS, the joint support, confidence, and lift for all rules of the form `{LHS} => {ANY_MOUNTAIN}` (considering only one item on the LHS).  Filter to include only rules with at least 10% joint support (hint: there are six of them), and print the joint support, confidence, and lift of these rules.\n",
        "\n",
        "*Hint: Look towards the end of the Lecture_8_3 colab notebook for guidance. Also note that you should remove the columns titled TID, EPISODE, and TITLE before stacking the data.*"
      ]
    },
    {
      "cell_type": "code",
      "metadata": {
        "id": "kiecHvJWNZ5L",
        "outputId": "31f4ccd3-795f-4cbc-e4c9-b6d688b7a7aa",
        "colab": {
          "base_uri": "https://localhost:8080/",
          "height": 1000
        }
      },
      "source": [
        "(bobross\n",
        "%>% mutate(ANY_MOUNTAIN = SNOWY_MOUNTAIN, MOUNTAIN, MOUNTAINS)\n",
        "%>% select(-SNOWY_MOUNTAIN, -MOUNTAIN, -MOUNTAINS)\n",
        "%>% mutate(rivers_any_mountain = rivers * ANY_MOUNTAIN)\n",
        "%>% summarize(support_ANY_MOUNTAIN = sum(ANY_MOUNTAIN)/N,\n",
        "            support_river = sum(rivers/N,\n",
        "            support_rule = sum(rivers_ANY_MOUNTAIN)/N)\n",
        " %>% mutate(confidence = support_rule/support_rivers)\n",
        "%>% mutate(lift = confidence/support_ANY_MOUNTAIN)\n",
        "\n",
        "  ))"
      ],
      "execution_count": 31,
      "outputs": [
        {
          "output_type": "stream",
          "name": "stderr",
          "text": [
            "Warning message in rivers * ANY_MOUNTAIN:\n",
            "“longer object length is not a multiple of shorter object length”\n"
          ]
        },
        {
          "output_type": "error",
          "ename": "ERROR",
          "evalue": "ignored",
          "traceback": [
            "\u001b[1m\u001b[33mError\u001b[39m in \u001b[1m\u001b[1m`summarize()`:\u001b[22m\n\u001b[1m\u001b[22m\u001b[33m!\u001b[39m Problem while computing `support_ANY_MOUNTAIN = sum(ANY_MOUNTAIN)/N`.\n\u001b[1mCaused by error:\u001b[22m\n\u001b[33m!\u001b[39m object 'N' not found\nTraceback:\n",
            "1. bobross %>% mutate(ANY_MOUNTAIN = SNOWY_MOUNTAIN, MOUNTAIN, MOUNTAINS) %>% \n .     select(-SNOWY_MOUNTAIN, -MOUNTAIN, -MOUNTAINS) %>% mutate(rivers_any_mountain = rivers * \n .     ANY_MOUNTAIN) %>% summarize(support_ANY_MOUNTAIN = sum(ANY_MOUNTAIN)/N, \n .     support_river = sum(rivers/N, support_rule = sum(rivers_ANY_MOUNTAIN)/N) %>% \n .         mutate(confidence = support_rule/support_rivers) %>% \n .         mutate(lift = confidence/support_ANY_MOUNTAIN))",
            "2. summarize(., support_ANY_MOUNTAIN = sum(ANY_MOUNTAIN)/N, support_river = sum(rivers/N, \n .     support_rule = sum(rivers_ANY_MOUNTAIN)/N) %>% mutate(confidence = support_rule/support_rivers) %>% \n .     mutate(lift = confidence/support_ANY_MOUNTAIN))",
            "3. summarise.data.frame(., support_ANY_MOUNTAIN = sum(ANY_MOUNTAIN)/N, \n .     support_river = sum(rivers/N, support_rule = sum(rivers_ANY_MOUNTAIN)/N) %>% \n .         mutate(confidence = support_rule/support_rivers) %>% \n .         mutate(lift = confidence/support_ANY_MOUNTAIN))",
            "4. summarise_cols(.data, dplyr_quosures(...), caller_env = caller_env())",
            "5. withCallingHandlers({\n .     for (i in seq_along(dots)) {\n .         context_poke(\"column\", old_current_column)\n .         quosures <- expand_across(dots[[i]])\n .         quosures_results <- map(quosures, summarise_eval_one, \n .             mask = mask)\n .         for (k in seq_along(quosures)) {\n .             quo <- quosures[[k]]\n .             quo_data <- attr(quo, \"dplyr:::data\")\n .             quo_result <- quosures_results[[k]]\n .             if (is.null(quo_result)) {\n .                 next\n .             }\n .             types_k <- quo_result$types\n .             chunks_k <- quo_result$chunks\n .             results_k <- quo_result$results\n .             if (!quo_data$is_named && is.data.frame(types_k)) {\n .                 chunks_extracted <- .Call(dplyr_extract_chunks, \n .                   chunks_k, types_k)\n .                 types_k_names <- names(types_k)\n .                 for (j in seq_along(chunks_extracted)) {\n .                   mask$add_one(name = types_k_names[j], chunks = chunks_extracted[[j]], \n .                     result = results_k[[j]])\n .                 }\n .                 chunks <- append(chunks, chunks_extracted)\n .                 types <- append(types, as.list(types_k))\n .                 results <- append(results, results_k)\n .                 out_names <- c(out_names, types_k_names)\n .             }\n .             else {\n .                 name <- quo_data$name_auto\n .                 mask$add_one(name = name, chunks = chunks_k, \n .                   result = results_k)\n .                 chunks <- append(chunks, list(chunks_k))\n .                 types <- append(types, list(types_k))\n .                 results <- append(results, list(results_k))\n .                 out_names <- c(out_names, name)\n .             }\n .         }\n .     }\n .     recycle_info <- .Call(dplyr_summarise_recycle_chunks, chunks, \n .         mask$get_rows(), types, results)\n .     chunks <- recycle_info$chunks\n .     sizes <- recycle_info$sizes\n .     results <- recycle_info$results\n .     for (i in seq_along(chunks)) {\n .         result <- results[[i]] %||% vec_c(!!!chunks[[i]], .ptype = types[[i]])\n .         cols[[out_names[i]]] <- result\n .     }\n . }, error = function(e) {\n .     what <- \"computing\"\n .     index <- i\n .     if (inherits(e, \"dplyr:::summarise_incompatible_size\")) {\n .         index <- e$dplyr_error_data$index\n .         what <- \"recycling\"\n .     }\n .     local_error_context(dots = dots, .index = index, mask = mask)\n .     bullets <- c(cnd_bullet_header(what), summarise_bullets(e))\n .     abort(bullets, call = error_call, parent = skip_internal_condition(e))\n . })",
            "6. map(quosures, summarise_eval_one, mask = mask)",
            "7. lapply(.x, .f, ...)",
            "8. FUN(X[[i]], ...)",
            "9. mask$eval_all_summarise(quo)",
            "10. .handleSimpleError(function (e) \n  . {\n  .     what <- \"computing\"\n  .     index <- i\n  .     if (inherits(e, \"dplyr:::summarise_incompatible_size\")) {\n  .         index <- e$dplyr_error_data$index\n  .         what <- \"recycling\"\n  .     }\n  .     local_error_context(dots = dots, .index = index, mask = mask)\n  .     bullets <- c(cnd_bullet_header(what), summarise_bullets(e))\n  .     abort(bullets, call = error_call, parent = skip_internal_condition(e))\n  . }, \"object 'N' not found\", base::quote(mask$eval_all_summarise(quo)))",
            "11. h(simpleError(msg, call))",
            "12. abort(bullets, call = error_call, parent = skip_internal_condition(e))",
            "13. signal_abort(cnd, .file)"
          ]
        }
      ]
    },
    {
      "cell_type": "markdown",
      "metadata": {
        "id": "FZ_y3G09NZ5L"
      },
      "source": [
        "***Task 2*** \n",
        "\n",
        "Now, suppose we want to consider *all* length-two rules (any one LHS item, any one RHS item). To do this, you may use the `arules` package.\n",
        "\n",
        "a. Print the top-10 *best overall rules of length 2*, restricted to rules with at least 1% support and confidence. \n",
        "\n",
        "b. Note that there are two \"best\" rules with the same lift, but with very different confidences. Interpret these two confidences; does it make sense that they are so different?\n",
        "\n",
        "c. Both of the \"top two\" rules have small joint supports. What is the best rule among those with at least 20% joint support?  **Interpret the lift of this rule.**"
      ]
    },
    {
      "cell_type": "code",
      "metadata": {
        "id": "npoXxut6NZ5L"
      },
      "source": [
        "# Your code here"
      ],
      "execution_count": null,
      "outputs": []
    },
    {
      "cell_type": "markdown",
      "metadata": {
        "id": "5CpENL7FNZ5N"
      },
      "source": [
        "***Task 3*** \n",
        "\n",
        "Construct some visualization of the top 10 rules from Task 2."
      ]
    },
    {
      "cell_type": "code",
      "metadata": {
        "id": "RbVxlC6TNZ5N"
      },
      "source": [
        "install.packages('arulesViz') # Must run everytime in Colab"
      ],
      "execution_count": null,
      "outputs": []
    },
    {
      "cell_type": "code",
      "metadata": {
        "id": "YTq1nVr8NZ5N"
      },
      "source": [
        "library(arulesViz)"
      ],
      "execution_count": null,
      "outputs": []
    },
    {
      "cell_type": "code",
      "metadata": {
        "id": "s_hWVXcBNZ5N"
      },
      "source": [
        "# Your code here"
      ],
      "execution_count": null,
      "outputs": []
    }
  ]
}